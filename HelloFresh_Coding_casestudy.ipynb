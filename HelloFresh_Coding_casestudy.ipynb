{
 "cells": [
  {
   "cell_type": "markdown",
   "id": "44d1e745",
   "metadata": {},
   "source": [
    "## 1. Installing required libraries"
   ]
  },
  {
   "cell_type": "code",
   "execution_count": null,
   "id": "e981f8ee",
   "metadata": {},
   "outputs": [],
   "source": [
    "!pip install pulp"
   ]
  },
  {
   "cell_type": "markdown",
   "id": "a81819d1",
   "metadata": {},
   "source": [
    "## 2. Importing required libraries"
   ]
  },
  {
   "cell_type": "code",
   "execution_count": 2,
   "id": "cec7649a",
   "metadata": {},
   "outputs": [],
   "source": [
    "from pulp import *"
   ]
  },
  {
   "cell_type": "markdown",
   "id": "2f230c80",
   "metadata": {},
   "source": [
    "## 3.Defining the sources, distribution centers, and markets"
   ]
  },
  {
   "cell_type": "code",
   "execution_count": 3,
   "id": "e4d32d71",
   "metadata": {},
   "outputs": [],
   "source": [
    "sources = ['N', 'S']\n",
    "distribution_centers = ['DC_A', 'DC_B'] \n",
    "markets = ['M1', 'M2', 'M3']"
   ]
  },
  {
   "cell_type": "markdown",
   "id": "634048b2",
   "metadata": {},
   "source": [
    "## 4.Defining the transportation costs"
   ]
  },
  {
   "cell_type": "code",
   "execution_count": 4,
   "id": "fcbf0ec6",
   "metadata": {},
   "outputs": [],
   "source": [
    "transportation_costs = {\n",
    "    ('N', 'DC_A'): 44,\n",
    "    ('N', 'DC_B'): 50,\n",
    "    ('S', 'DC_A'): 54,\n",
    "    ('S', 'DC_B'): 52,\n",
    "    ('DC_A', 'M1'): 40,\n",
    "    ('DC_A', 'M2'): 59,\n",
    "    ('DC_A', 'M3'): 76,\n",
    "    ('DC_B', 'M1'): 73,\n",
    "    ('DC_B', 'M2'): 47,\n",
    "    ('DC_B', 'M3'): 79\n",
    "}"
   ]
  },
  {
   "cell_type": "markdown",
   "id": "8dd2fea8",
   "metadata": {},
   "source": [
    "The keys of the dictionary represent the origin and destination pairs (like Production to distribution center and Distribution Center to Markets). The values represent the corresponding transportation cost."
   ]
  },
  {
   "cell_type": "markdown",
   "id": "4c251dfa",
   "metadata": {},
   "source": [
    "\n",
    "## 5. Defining the capacities of the sources"
   ]
  },
  {
   "cell_type": "code",
   "execution_count": 5,
   "id": "e174087d",
   "metadata": {},
   "outputs": [],
   "source": [
    "capacities = {\n",
    "    'N': 600,\n",
    "    'S': 500\n",
    "}"
   ]
  },
  {
   "cell_type": "markdown",
   "id": "aaaa2835",
   "metadata": {},
   "source": [
    "## 6.Defining the demands of the markets"
   ]
  },
  {
   "cell_type": "code",
   "execution_count": 6,
   "id": "c9252a34",
   "metadata": {},
   "outputs": [],
   "source": [
    "demands = {\n",
    "    'M1': 300,\n",
    "    'M2': 300,\n",
    "    'M3': 500\n",
    "}"
   ]
  },
  {
   "cell_type": "markdown",
   "id": "26560716",
   "metadata": {},
   "source": [
    "## 7.Problem Definition"
   ]
  },
  {
   "cell_type": "code",
   "execution_count": 7,
   "id": "2439c74b",
   "metadata": {},
   "outputs": [
    {
     "name": "stderr",
     "output_type": "stream",
     "text": [
      "C:\\Users\\RAHUL ELDHO BIJOY\\anaconda3\\lib\\site-packages\\pulp\\pulp.py:1352: UserWarning: Spaces are not permitted in the name. Converted to '_'\n",
      "  warnings.warn(\"Spaces are not permitted in the name. Converted to '_'\")\n"
     ]
    }
   ],
   "source": [
    "problem = LpProblem(\"Steak Transportation Problem\", LpMinimize)"
   ]
  },
  {
   "cell_type": "markdown",
   "id": "dfe8bc7a",
   "metadata": {},
   "source": [
    "Here we creates an instance of a linear programming problem using the PuLP library.LpMinimize is used to indicate the objective of the problem."
   ]
  },
  {
   "cell_type": "markdown",
   "id": "5774cd7f",
   "metadata": {},
   "source": [
    "## 8. Defining the decision variables"
   ]
  },
  {
   "cell_type": "code",
   "execution_count": 8,
   "id": "2662ec26",
   "metadata": {},
   "outputs": [],
   "source": [
    "\n",
    "X = LpVariable.dicts(\"Tons\", (sources, distribution_centers, markets), lowBound=0, cat='Continuous')\n"
   ]
  },
  {
   "cell_type": "markdown",
   "id": "06fc8f9c",
   "metadata": {},
   "source": [
    "Here we are defining the decision variables for the linear programming problem. We are creating in dictionary of variables which helps to accomodate multiple decision variables.The lowBound=0 sets the lower bound of the decision variables to 0, meaning that the amount of tons shipped cannot be negative.\n",
    "The variable cat='Continuous': It specifies the category of the decision variables as continuous, meaning they can take on any real value within the given bounds."
   ]
  },
  {
   "cell_type": "markdown",
   "id": "0ca36bb6",
   "metadata": {},
   "source": [
    "## 8.Defining the objective function"
   ]
  },
  {
   "cell_type": "code",
   "execution_count": 9,
   "id": "0483e9a8",
   "metadata": {},
   "outputs": [],
   "source": [
    "problem += lpSum(transportation_costs[source, center] * X[source][center][market]\n",
    "                 for source in sources\n",
    "                 for center in distribution_centers\n",
    "                 for market in markets)"
   ]
  },
  {
   "cell_type": "markdown",
   "id": "0ac585f1",
   "metadata": {},
   "source": [
    "Here we use lpSum  to calculates the sum of a series of terms. By summing up the costs for all combinations (sources, distribution centers, and markets), the objective function captures the total cost of transportation in the problem. The goal of the optimization is to minimize this total cost. ( We can also use in normal sum method)"
   ]
  },
  {
   "cell_type": "markdown",
   "id": "d1cb43f3",
   "metadata": {},
   "source": [
    "## 9.Finding the constraints  in source and demand"
   ]
  },
  {
   "cell_type": "code",
   "execution_count": 10,
   "id": "07fd1d1d",
   "metadata": {},
   "outputs": [],
   "source": [
    "\n",
    "for source in sources:\n",
    "    problem += lpSum(X[source][center][market]\n",
    "                     for center in distribution_centers\n",
    "                     for market in markets) <= capacities[source]\n",
    "    \n"
   ]
  },
  {
   "cell_type": "markdown",
   "id": "16719d78",
   "metadata": {},
   "source": [
    "Here I am trying to ensure that the amount of steak shipped from each source (production plant) to the distribution centers and markets does not exceed the capacity of that source. If the sum of amount of steaks(productionplants,distributioncentres and Markets) exceeds the capacity, it violates the constraint, and the problem will consider it as an infeasible solution."
   ]
  },
  {
   "cell_type": "code",
   "execution_count": 11,
   "id": "c2eae3e7",
   "metadata": {},
   "outputs": [],
   "source": [
    "for market in markets:\n",
    "    problem += lpSum(X[source][center][market]\n",
    "                     for source in sources\n",
    "                     for center in distribution_centers) >= demands[market]"
   ]
  },
  {
   "cell_type": "markdown",
   "id": "28411b37",
   "metadata": {},
   "source": [
    "Here I am trying to ensure that the demand of each market is satisfied by the total amount of steak shipped from all production plants  and distribution centers."
   ]
  },
  {
   "cell_type": "code",
   "execution_count": 12,
   "id": "995d1bca",
   "metadata": {},
   "outputs": [
    {
     "name": "stdout",
     "output_type": "stream",
     "text": [
      "Optimal solution:\n",
      "Tons shipped from N to DC_A and then to M1: 0.0\n",
      "Tons shipped from N to DC_A and then to M2: 100.0\n",
      "Tons shipped from N to DC_A and then to M3: 500.0\n",
      "Tons shipped from N to DC_B and then to M1: 0.0\n",
      "Tons shipped from N to DC_B and then to M2: 0.0\n",
      "Tons shipped from N to DC_B and then to M3: 0.0\n",
      "Tons shipped from S to DC_A and then to M1: 0.0\n",
      "Tons shipped from S to DC_A and then to M2: 0.0\n",
      "Tons shipped from S to DC_A and then to M3: 0.0\n",
      "Tons shipped from S to DC_B and then to M1: 300.0\n",
      "Tons shipped from S to DC_B and then to M2: 200.0\n",
      "Tons shipped from S to DC_B and then to M3: 0.0\n",
      "Total cost: 52400.0 euros\n"
     ]
    }
   ],
   "source": [
    "problem.solve()\n",
    "print(\"Optimal solution:\")\n",
    "for source in sources:\n",
    "    for center in distribution_centers:\n",
    "        for market in markets:\n",
    "            print(f\"Tons shipped from {source} to {center} and then to {market}: {X[source][center][market].varValue}\")\n",
    "\n",
    "# Print the total cost\n",
    "print(f\"Total cost: {value(problem.objective)} euros\")"
   ]
  },
  {
   "cell_type": "markdown",
   "id": "f4779e20",
   "metadata": {},
   "source": [
    "## 10. Calculating the tons of steak from DC A and DC B"
   ]
  },
  {
   "cell_type": "markdown",
   "id": "91b785dd",
   "metadata": {},
   "source": [
    "here we got the  optimal transportation plan by showing how much steak should be shipped from each production plants N,S to each distribution center DC A. DC B and then to each market (M1,M2M3) to minimize the total cost."
   ]
  },
  {
   "cell_type": "code",
   "execution_count": 13,
   "id": "51eb6263",
   "metadata": {},
   "outputs": [],
   "source": [
    "\n",
    "tons_through_DC_A = 0\n",
    "tons_through_DC_B = 0\n",
    "for source in sources:\n",
    "    for center in distribution_centers:\n",
    "        for market in markets:\n",
    "            if center == 'DC_A':\n",
    "                tons_through_DC_A += X[source][center][market].varValue\n",
    "            elif center == 'DC_B':\n",
    "                tons_through_DC_B += X[source][center][market].varValue"
   ]
  },
  {
   "cell_type": "markdown",
   "id": "cfe77515",
   "metadata": {},
   "source": [
    "## 11 Calculating the weekly costs"
   ]
  },
  {
   "cell_type": "code",
   "execution_count": 14,
   "id": "e61847fc",
   "metadata": {},
   "outputs": [],
   "source": [
    "weekly_cost_DC_A = 0\n",
    "weekly_cost_DC_B = 0\n",
    "\n",
    "for source in sources:\n",
    "    for center in distribution_centers:\n",
    "        for market in markets:\n",
    "            if center == 'DC_A':\n",
    "                weekly_cost_DC_A += transportation_costs[(source, center)] * X[source][center][market].varValue\n",
    "            elif center == 'DC_B':\n",
    "                weekly_cost_DC_B += transportation_costs[(source, center)] * X[source][center][market].varValue\n"
   ]
  },
  {
   "cell_type": "markdown",
   "id": "9d6ad9b1",
   "metadata": {},
   "source": [
    "## 12.Final Calculated values"
   ]
  },
  {
   "cell_type": "code",
   "execution_count": 15,
   "id": "7e0dcac3",
   "metadata": {},
   "outputs": [
    {
     "name": "stdout",
     "output_type": "stream",
     "text": [
      "Tons shipped through DC A: 600.0\n",
      "Tons shipped through DC B: 500.0\n",
      "Weekly cost through DC A: 26400.0 euros\n",
      "Weekly cost through DC B: 26000.0 euros\n"
     ]
    }
   ],
   "source": [
    "print(\"Tons shipped through DC A:\", tons_through_DC_A)\n",
    "print(\"Tons shipped through DC B:\", tons_through_DC_B)\n",
    "print(\"Weekly cost through DC A:\", weekly_cost_DC_A, \"euros\")\n",
    "print(\"Weekly cost through DC B:\", weekly_cost_DC_B, \"euros\")"
   ]
  },
  {
   "cell_type": "markdown",
   "id": "3eadeda1",
   "metadata": {},
   "source": [
    "reference: https://machinelearninggeek.com/solving-transportation-problem-using-linear-programming-in-python/"
   ]
  }
 ],
 "metadata": {
  "kernelspec": {
   "display_name": "Python 3 (ipykernel)",
   "language": "python",
   "name": "python3"
  },
  "language_info": {
   "codemirror_mode": {
    "name": "ipython",
    "version": 3
   },
   "file_extension": ".py",
   "mimetype": "text/x-python",
   "name": "python",
   "nbconvert_exporter": "python",
   "pygments_lexer": "ipython3",
   "version": "3.9.12"
  }
 },
 "nbformat": 4,
 "nbformat_minor": 5
}
