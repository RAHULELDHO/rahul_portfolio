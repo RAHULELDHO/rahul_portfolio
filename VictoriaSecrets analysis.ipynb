{
 "cells": [
  {
   "cell_type": "markdown",
   "id": "dd523d1a",
   "metadata": {},
   "source": [
    "# STUDENT NAME: RAHUL BIJOY\n"
   ]
  },
  {
   "cell_type": "markdown",
   "id": "3199c007",
   "metadata": {},
   "source": [
    "###  I. IMPORTING RELEVANT LIBRARIES"
   ]
  },
  {
   "cell_type": "code",
   "execution_count": 4,
   "id": "502d36a9",
   "metadata": {},
   "outputs": [],
   "source": [
    "import pandas as pd\n",
    "import numpy as np"
   ]
  },
  {
   "cell_type": "markdown",
   "id": "8a47dff8",
   "metadata": {},
   "source": [
    "### II. PRE-PROCESS THE DATA"
   ]
  },
  {
   "cell_type": "markdown",
   "id": "13bd4ba9",
   "metadata": {},
   "source": [
    "As we discussed in the class we are using one single function to pre-process the data and removing NA values with median."
   ]
  },
  {
   "cell_type": "code",
   "execution_count": 14,
   "id": "8146a352",
   "metadata": {},
   "outputs": [],
   "source": [
    "df = pd.read_csv('victoriassecret_com.csv')\n",
    "price_cols = ['price','mrp']\n",
    "cols_to_drop = 'style_attributes'\n",
    "num_cols = ['price','mrp','review_count','rating']\n",
    "preprocess_df(df, clean_price, price_cols, cols_to_drop, num_cols)"
   ]
  },
  {
   "cell_type": "code",
   "execution_count": 16,
   "id": "65abe226",
   "metadata": {},
   "outputs": [],
   "source": [
    "conv1 = 0.000067\n",
    "conv2 = 0.00178 \n",
    "def clean_fn(s):\n",
    "    s0=s[0]\n",
    "    if s0 =='$':\n",
    "        return float(s[1:])\n",
    "    elif s0 =='R':\n",
    "        return float(s[2:])*conv1 #because it RP (2 letters at the beginning)\n",
    "    elif s0 =='₡':\n",
    "        return float(s[1:])*conv2"
   ]
  },
  {
   "cell_type": "code",
   "execution_count": 17,
   "id": "679057ce",
   "metadata": {},
   "outputs": [],
   "source": [
    "def preprocess_df(df, clean_fn, price_cols, cols_to_drop, num_cols):\n",
    "    df[price_cols] = df[price_cols].applymap(clean_fn) # We are using apply map since we need to apply function in mrp and price\n",
    "    medians = df[num_cols].median()\n",
    "    df.fillna(value=medians , inplace = True)\n",
    "    #or df[num_cols] = df[num_cols].fillna(value=medians , inplace = True)\n",
    "    df.drop(columns=cols_to_drop, inplace = True)"
   ]
  },
  {
   "cell_type": "markdown",
   "id": "8c5c5b5f",
   "metadata": {},
   "source": [
    "### III. QUESTIONS "
   ]
  },
  {
   "cell_type": "markdown",
   "id": "ce6ab9b5",
   "metadata": {},
   "source": [
    "### PART 3"
   ]
  },
  {
   "cell_type": "markdown",
   "id": "4db0eb83",
   "metadata": {},
   "source": [
    "#### 1. What are the most popular products? (those which have the best ratings)"
   ]
  },
  {
   "cell_type": "code",
   "execution_count": 18,
   "id": "851cc3a8",
   "metadata": {},
   "outputs": [
    {
     "data": {
      "text/plain": [
       "product_name                                                            rating\n",
       "Body by Victoria Perfect Coverage Bra                                   4.3       11586\n",
       "Body by Victoria Demi Bra                                               4.3       10701\n",
       "Very Sexy Push-Up Bra                                                   4.3       10509\n",
       "Dream Angels Demi Bra                                                   4.3        9711\n",
       "Dream Angels Push-Up Bra                                                4.3        9432\n",
       "Victoria Sport Incredible by Victoria Sport Bra                         4.3        7698\n",
       "Very Sexy NEW! Push-Up Bra                                              4.3        7655\n",
       "Victoria Sport Knockout by Victoria Sport Front-Close Sport Bra         4.3        7150\n",
       "PINK NEW! Wear Everywhere Push-Up Bra                                   4.3        7135\n",
       "Body by Victoria Perfect Coverage Bra                                   4.4        6336\n",
       "PINK NEW! Wear Everywhere T-Shirt Bra                                   4.3        5483\n",
       "Victoria Sport Lightweight by Victoria Sport Bra                        4.3        5352\n",
       "Body by Victoria Perfect Shape Bra                                      4.3        4892\n",
       "PINK NEW! Wear Everywhere T-Back Push-Up Bra                            4.3        4755\n",
       "Victoria Sport NEW! Incredible by Victoria Sport Front-close Sport Bra  4.3        4467\n",
       "Victoria Sport NEW! Incredible by Victoria Sport Bra                    4.3        4279\n",
       "NEW! Wear Everywhere Push-Up Bra                                        4.3        4032\n",
       "PINK NEW! Wear Everywhere Lightly Lined Bra                             4.3        3934\n",
       "Easy Push-Up Bra                                                        4.3        3864\n",
       "Sexy Tee Push-Up Bra                                                    4.3        3809\n",
       "dtype: int64"
      ]
     },
     "execution_count": 18,
     "metadata": {},
     "output_type": "execute_result"
    }
   ],
   "source": [
    " df[[\"product_name\",\"rating\"]].value_counts().head(20) "
   ]
  },
  {
   "cell_type": "markdown",
   "id": "68e3cfa5",
   "metadata": {},
   "source": [
    "Here we can see same products having multiple ratings  for example \"Body by Victoria Perfect Coverage Bra\"  having different ratings. So as per my intuition I am taking mean value of ratings for each product. Then we will check multiple approach to do this problem. Also we could some product names are same but they are differentiated due space character issue so we are replacing the space inorder to get accurate mean value."
   ]
  },
  {
   "cell_type": "markdown",
   "id": "261004ac",
   "metadata": {},
   "source": [
    "##### APPROACH 1"
   ]
  },
  {
   "cell_type": "code",
   "execution_count": 145,
   "id": "6d4582f1",
   "metadata": {},
   "outputs": [
    {
     "data": {
      "text/html": [
       "<div>\n",
       "<style scoped>\n",
       "    .dataframe tbody tr th:only-of-type {\n",
       "        vertical-align: middle;\n",
       "    }\n",
       "\n",
       "    .dataframe tbody tr th {\n",
       "        vertical-align: top;\n",
       "    }\n",
       "\n",
       "    .dataframe thead th {\n",
       "        text-align: right;\n",
       "    }\n",
       "</style>\n",
       "<table border=\"1\" class=\"dataframe\">\n",
       "  <thead>\n",
       "    <tr style=\"text-align: right;\">\n",
       "      <th></th>\n",
       "      <th>mrp</th>\n",
       "      <th>price</th>\n",
       "      <th>rating</th>\n",
       "      <th>review_count</th>\n",
       "    </tr>\n",
       "    <tr>\n",
       "      <th>product_name</th>\n",
       "      <th></th>\n",
       "      <th></th>\n",
       "      <th></th>\n",
       "      <th></th>\n",
       "    </tr>\n",
       "  </thead>\n",
       "  <tbody>\n",
       "    <tr>\n",
       "      <th>DreamAngelsCrochetLaceHigh-neckBodysuit</th>\n",
       "      <td>52.000000</td>\n",
       "      <td>43.792308</td>\n",
       "      <td>4.761538</td>\n",
       "      <td>39.307692</td>\n",
       "    </tr>\n",
       "    <tr>\n",
       "      <th>VerySexyMesh&amp;LaceCheekyPanty</th>\n",
       "      <td>16.500000</td>\n",
       "      <td>7.990000</td>\n",
       "      <td>4.700000</td>\n",
       "      <td>18.000000</td>\n",
       "    </tr>\n",
       "    <tr>\n",
       "      <th>DreamAngelsLace-trimThongPanty</th>\n",
       "      <td>14.500000</td>\n",
       "      <td>7.662619</td>\n",
       "      <td>4.606548</td>\n",
       "      <td>80.964286</td>\n",
       "    </tr>\n",
       "    <tr>\n",
       "      <th>VerySexyLace&amp;MeshThongPanty</th>\n",
       "      <td>14.500000</td>\n",
       "      <td>10.272727</td>\n",
       "      <td>4.600000</td>\n",
       "      <td>89.142857</td>\n",
       "    </tr>\n",
       "    <tr>\n",
       "      <th>SoObsessedbyVictoria'sSecretNEW!Add-1-CupsPush-UpBra</th>\n",
       "      <td>53.050000</td>\n",
       "      <td>53.050000</td>\n",
       "      <td>4.600000</td>\n",
       "      <td>261.000000</td>\n",
       "    </tr>\n",
       "    <tr>\n",
       "      <th>DreamAngelsNEW!Lace-trimThongPanty</th>\n",
       "      <td>15.035604</td>\n",
       "      <td>15.035604</td>\n",
       "      <td>4.570898</td>\n",
       "      <td>88.554180</td>\n",
       "    </tr>\n",
       "    <tr>\n",
       "      <th>PINKNEW!2-PackCrewSock</th>\n",
       "      <td>12.950000</td>\n",
       "      <td>12.950000</td>\n",
       "      <td>4.566667</td>\n",
       "      <td>96.333333</td>\n",
       "    </tr>\n",
       "    <tr>\n",
       "      <th>PINKSuperSoftBeachCheekyCroppedTank</th>\n",
       "      <td>26.950000</td>\n",
       "      <td>26.950000</td>\n",
       "      <td>4.566667</td>\n",
       "      <td>83.666667</td>\n",
       "    </tr>\n",
       "    <tr>\n",
       "      <th>PINKCoconutWatersTravelKit</th>\n",
       "      <td>28.000000</td>\n",
       "      <td>28.000000</td>\n",
       "      <td>4.533333</td>\n",
       "      <td>100.000000</td>\n",
       "    </tr>\n",
       "    <tr>\n",
       "      <th>VerySexyNEW!FloralLaceThongPanty</th>\n",
       "      <td>16.500000</td>\n",
       "      <td>16.500000</td>\n",
       "      <td>4.529730</td>\n",
       "      <td>85.432432</td>\n",
       "    </tr>\n",
       "  </tbody>\n",
       "</table>\n",
       "</div>"
      ],
      "text/plain": [
       "                                                          mrp      price  \\\n",
       "product_name                                                               \n",
       "DreamAngelsCrochetLaceHigh-neckBodysuit             52.000000  43.792308   \n",
       "VerySexyMesh&LaceCheekyPanty                        16.500000   7.990000   \n",
       "DreamAngelsLace-trimThongPanty                      14.500000   7.662619   \n",
       "VerySexyLace&MeshThongPanty                         14.500000  10.272727   \n",
       "SoObsessedbyVictoria'sSecretNEW!Add-1-CupsPush-...  53.050000  53.050000   \n",
       "DreamAngelsNEW!Lace-trimThongPanty                  15.035604  15.035604   \n",
       "PINKNEW!2-PackCrewSock                              12.950000  12.950000   \n",
       "PINKSuperSoftBeachCheekyCroppedTank                 26.950000  26.950000   \n",
       "PINKCoconutWatersTravelKit                          28.000000  28.000000   \n",
       "VerySexyNEW!FloralLaceThongPanty                    16.500000  16.500000   \n",
       "\n",
       "                                                      rating  review_count  \n",
       "product_name                                                                \n",
       "DreamAngelsCrochetLaceHigh-neckBodysuit             4.761538     39.307692  \n",
       "VerySexyMesh&LaceCheekyPanty                        4.700000     18.000000  \n",
       "DreamAngelsLace-trimThongPanty                      4.606548     80.964286  \n",
       "VerySexyLace&MeshThongPanty                         4.600000     89.142857  \n",
       "SoObsessedbyVictoria'sSecretNEW!Add-1-CupsPush-...  4.600000    261.000000  \n",
       "DreamAngelsNEW!Lace-trimThongPanty                  4.570898     88.554180  \n",
       "PINKNEW!2-PackCrewSock                              4.566667     96.333333  \n",
       "PINKSuperSoftBeachCheekyCroppedTank                 4.566667     83.666667  \n",
       "PINKCoconutWatersTravelKit                          4.533333    100.000000  \n",
       "VerySexyNEW!FloralLaceThongPanty                    4.529730     85.432432  "
      ]
     },
     "execution_count": 145,
     "metadata": {},
     "output_type": "execute_result"
    }
   ],
   "source": [
    "df[\"product_name\"] = df[\"product_name\"].str.replace(\" \", \"\")\n",
    "grouped_df = df.groupby('product_name').mean('rating').sort_values(\"rating\",ascending = False)\n",
    "grouped_df.head(10)"
   ]
  },
  {
   "cell_type": "markdown",
   "id": "1214578d",
   "metadata": {},
   "source": [
    "Here we are taking the mean values of the products based on rating  and sort in descending order to get best popular products"
   ]
  },
  {
   "cell_type": "markdown",
   "id": "34831803",
   "metadata": {},
   "source": [
    "##### APPROACH 2"
   ]
  },
  {
   "cell_type": "code",
   "execution_count": 146,
   "id": "9af74e7b",
   "metadata": {},
   "outputs": [
    {
     "data": {
      "text/html": [
       "<div>\n",
       "<style scoped>\n",
       "    .dataframe tbody tr th:only-of-type {\n",
       "        vertical-align: middle;\n",
       "    }\n",
       "\n",
       "    .dataframe tbody tr th {\n",
       "        vertical-align: top;\n",
       "    }\n",
       "\n",
       "    .dataframe thead th {\n",
       "        text-align: right;\n",
       "    }\n",
       "</style>\n",
       "<table border=\"1\" class=\"dataframe\">\n",
       "  <thead>\n",
       "    <tr style=\"text-align: right;\">\n",
       "      <th></th>\n",
       "      <th>rating</th>\n",
       "      <th>review_count</th>\n",
       "    </tr>\n",
       "    <tr>\n",
       "      <th>product_name</th>\n",
       "      <th></th>\n",
       "      <th></th>\n",
       "    </tr>\n",
       "  </thead>\n",
       "  <tbody>\n",
       "    <tr>\n",
       "      <th>DreamAngelsCrochetLaceHigh-neckBodysuit</th>\n",
       "      <td>4.761538</td>\n",
       "      <td>1533.0</td>\n",
       "    </tr>\n",
       "    <tr>\n",
       "      <th>VerySexyMesh&amp;LaceCheekyPanty</th>\n",
       "      <td>4.700000</td>\n",
       "      <td>90.0</td>\n",
       "    </tr>\n",
       "    <tr>\n",
       "      <th>DreamAngelsLace-trimThongPanty</th>\n",
       "      <td>4.606548</td>\n",
       "      <td>13602.0</td>\n",
       "    </tr>\n",
       "    <tr>\n",
       "      <th>SoObsessedbyVictoria'sSecretNEW!Add-1-CupsPush-UpBra</th>\n",
       "      <td>4.600000</td>\n",
       "      <td>62640.0</td>\n",
       "    </tr>\n",
       "    <tr>\n",
       "      <th>VerySexyLace&amp;MeshThongPanty</th>\n",
       "      <td>4.600000</td>\n",
       "      <td>6864.0</td>\n",
       "    </tr>\n",
       "    <tr>\n",
       "      <th>DreamAngelsNEW!Lace-trimThongPanty</th>\n",
       "      <td>4.570898</td>\n",
       "      <td>57206.0</td>\n",
       "    </tr>\n",
       "    <tr>\n",
       "      <th>PINKSuperSoftBeachCheekyCroppedTank</th>\n",
       "      <td>4.566667</td>\n",
       "      <td>2510.0</td>\n",
       "    </tr>\n",
       "    <tr>\n",
       "      <th>PINKNEW!2-PackCrewSock</th>\n",
       "      <td>4.566667</td>\n",
       "      <td>1734.0</td>\n",
       "    </tr>\n",
       "    <tr>\n",
       "      <th>PINKCoconutWatersTravelKit</th>\n",
       "      <td>4.533333</td>\n",
       "      <td>300.0</td>\n",
       "    </tr>\n",
       "    <tr>\n",
       "      <th>VerySexyNEW!FloralLaceThongPanty</th>\n",
       "      <td>4.529730</td>\n",
       "      <td>18966.0</td>\n",
       "    </tr>\n",
       "  </tbody>\n",
       "</table>\n",
       "</div>"
      ],
      "text/plain": [
       "                                                      rating  review_count\n",
       "product_name                                                              \n",
       "DreamAngelsCrochetLaceHigh-neckBodysuit             4.761538        1533.0\n",
       "VerySexyMesh&LaceCheekyPanty                        4.700000          90.0\n",
       "DreamAngelsLace-trimThongPanty                      4.606548       13602.0\n",
       "SoObsessedbyVictoria'sSecretNEW!Add-1-CupsPush-...  4.600000       62640.0\n",
       "VerySexyLace&MeshThongPanty                         4.600000        6864.0\n",
       "DreamAngelsNEW!Lace-trimThongPanty                  4.570898       57206.0\n",
       "PINKSuperSoftBeachCheekyCroppedTank                 4.566667        2510.0\n",
       "PINKNEW!2-PackCrewSock                              4.566667        1734.0\n",
       "PINKCoconutWatersTravelKit                          4.533333         300.0\n",
       "VerySexyNEW!FloralLaceThongPanty                    4.529730       18966.0"
      ]
     },
     "execution_count": 146,
     "metadata": {},
     "output_type": "execute_result"
    }
   ],
   "source": [
    "df[\"product_name\"] = df[\"product_name\"].str.replace(\" \", \"\")\n",
    "grouped_df = df.groupby('product_name').agg({'rating': 'mean', 'review_count': 'sum'}).sort_values(['rating', 'review_count'], ascending=False)\n",
    "grouped_df.head(10)"
   ]
  },
  {
   "cell_type": "markdown",
   "id": "2e894661",
   "metadata": {},
   "source": [
    "##### APPROACH 3"
   ]
  },
  {
   "cell_type": "markdown",
   "id": "0629ec62",
   "metadata": {},
   "source": [
    "Here I am considering the review_count column since we need the popular products. so I am sorting with review count_along with rating column"
   ]
  },
  {
   "cell_type": "code",
   "execution_count": 147,
   "id": "3f8b0848",
   "metadata": {},
   "outputs": [
    {
     "data": {
      "text/html": [
       "<div>\n",
       "<style scoped>\n",
       "    .dataframe tbody tr th:only-of-type {\n",
       "        vertical-align: middle;\n",
       "    }\n",
       "\n",
       "    .dataframe tbody tr th {\n",
       "        vertical-align: top;\n",
       "    }\n",
       "\n",
       "    .dataframe thead th {\n",
       "        text-align: right;\n",
       "    }\n",
       "</style>\n",
       "<table border=\"1\" class=\"dataframe\">\n",
       "  <thead>\n",
       "    <tr style=\"text-align: right;\">\n",
       "      <th></th>\n",
       "      <th>mrp</th>\n",
       "      <th>price</th>\n",
       "      <th>rating</th>\n",
       "      <th>review_count</th>\n",
       "    </tr>\n",
       "    <tr>\n",
       "      <th>product_name</th>\n",
       "      <th></th>\n",
       "      <th></th>\n",
       "      <th></th>\n",
       "      <th></th>\n",
       "    </tr>\n",
       "  </thead>\n",
       "  <tbody>\n",
       "    <tr>\n",
       "      <th>PINKNEW!UltimateLace-UpPlungeSportsBra</th>\n",
       "      <td>25.218103</td>\n",
       "      <td>25.218103</td>\n",
       "      <td>4.346983</td>\n",
       "      <td>100.250000</td>\n",
       "    </tr>\n",
       "    <tr>\n",
       "      <th>PINKUltimateLace-UpPlungeSportsBra</th>\n",
       "      <td>24.500000</td>\n",
       "      <td>24.500000</td>\n",
       "      <td>4.335714</td>\n",
       "      <td>111.285714</td>\n",
       "    </tr>\n",
       "    <tr>\n",
       "      <th>PINKUltimateLonglineHigh-NeckSportsBra</th>\n",
       "      <td>22.500000</td>\n",
       "      <td>22.500000</td>\n",
       "      <td>4.300000</td>\n",
       "      <td>147.000000</td>\n",
       "    </tr>\n",
       "    <tr>\n",
       "      <th>NEW!UltimateUnlinedMeshHigh-NeckSportsBra</th>\n",
       "      <td>25.725000</td>\n",
       "      <td>25.725000</td>\n",
       "      <td>4.300000</td>\n",
       "      <td>147.000000</td>\n",
       "    </tr>\n",
       "    <tr>\n",
       "      <th>PINKUltimatePush-UpSportsBra</th>\n",
       "      <td>34.500000</td>\n",
       "      <td>27.047278</td>\n",
       "      <td>4.271111</td>\n",
       "      <td>142.888889</td>\n",
       "    </tr>\n",
       "    <tr>\n",
       "      <th>PINKUltimateStrappyBackSportsBra</th>\n",
       "      <td>24.500000</td>\n",
       "      <td>16.690000</td>\n",
       "      <td>4.266000</td>\n",
       "      <td>148.473333</td>\n",
       "    </tr>\n",
       "    <tr>\n",
       "      <th>PINKNEW!UltimatePush-UpSportsBra</th>\n",
       "      <td>34.500000</td>\n",
       "      <td>34.500000</td>\n",
       "      <td>4.265989</td>\n",
       "      <td>140.510166</td>\n",
       "    </tr>\n",
       "    <tr>\n",
       "      <th>PINKUltimatePocketStrappySportsBra</th>\n",
       "      <td>24.500000</td>\n",
       "      <td>21.069512</td>\n",
       "      <td>4.258537</td>\n",
       "      <td>134.353659</td>\n",
       "    </tr>\n",
       "    <tr>\n",
       "      <th>PINKNEW!UltimatePush-UpStrappySportsBra</th>\n",
       "      <td>34.674222</td>\n",
       "      <td>34.674222</td>\n",
       "      <td>4.173778</td>\n",
       "      <td>103.055556</td>\n",
       "    </tr>\n",
       "    <tr>\n",
       "      <th>PINKUltimateMeshRacerbackSportsBra</th>\n",
       "      <td>26.500000</td>\n",
       "      <td>12.990000</td>\n",
       "      <td>4.172189</td>\n",
       "      <td>118.881657</td>\n",
       "    </tr>\n",
       "  </tbody>\n",
       "</table>\n",
       "</div>"
      ],
      "text/plain": [
       "                                                 mrp      price    rating  \\\n",
       "product_name                                                                \n",
       "PINKNEW!UltimateLace-UpPlungeSportsBra     25.218103  25.218103  4.346983   \n",
       "PINKUltimateLace-UpPlungeSportsBra         24.500000  24.500000  4.335714   \n",
       "PINKUltimateLonglineHigh-NeckSportsBra     22.500000  22.500000  4.300000   \n",
       "NEW!UltimateUnlinedMeshHigh-NeckSportsBra  25.725000  25.725000  4.300000   \n",
       "PINKUltimatePush-UpSportsBra               34.500000  27.047278  4.271111   \n",
       "PINKUltimateStrappyBackSportsBra           24.500000  16.690000  4.266000   \n",
       "PINKNEW!UltimatePush-UpSportsBra           34.500000  34.500000  4.265989   \n",
       "PINKUltimatePocketStrappySportsBra         24.500000  21.069512  4.258537   \n",
       "PINKNEW!UltimatePush-UpStrappySportsBra    34.674222  34.674222  4.173778   \n",
       "PINKUltimateMeshRacerbackSportsBra         26.500000  12.990000  4.172189   \n",
       "\n",
       "                                           review_count  \n",
       "product_name                                             \n",
       "PINKNEW!UltimateLace-UpPlungeSportsBra       100.250000  \n",
       "PINKUltimateLace-UpPlungeSportsBra           111.285714  \n",
       "PINKUltimateLonglineHigh-NeckSportsBra       147.000000  \n",
       "NEW!UltimateUnlinedMeshHigh-NeckSportsBra    147.000000  \n",
       "PINKUltimatePush-UpSportsBra                 142.888889  \n",
       "PINKUltimateStrappyBackSportsBra             148.473333  \n",
       "PINKNEW!UltimatePush-UpSportsBra             140.510166  \n",
       "PINKUltimatePocketStrappySportsBra           134.353659  \n",
       "PINKNEW!UltimatePush-UpStrappySportsBra      103.055556  \n",
       "PINKUltimateMeshRacerbackSportsBra           118.881657  "
      ]
     },
     "execution_count": 147,
     "metadata": {},
     "output_type": "execute_result"
    }
   ],
   "source": [
    "df[\"product_name\"] = df[\"product_name\"].str.replace(\" \", \"\")\n",
    "grouped_df = df.groupby('product_name').mean().sort_values('rating', ascending=False)\n",
    "grouped_df_mean = grouped_df.sort_values([\"rating\", \"review_count\"], ascending=[False, False])\n",
    "\n",
    "grouped_df_mean.head(10)"
   ]
  },
  {
   "cell_type": "markdown",
   "id": "b5d18678",
   "metadata": {},
   "source": [
    "##### APPROACH 4"
   ]
  },
  {
   "cell_type": "markdown",
   "id": "18e80bcf",
   "metadata": {},
   "source": [
    "Here I am taking the sum of review count and mean value of rating. then I sort the both values"
   ]
  },
  {
   "cell_type": "code",
   "execution_count": 69,
   "id": "6a79c818",
   "metadata": {},
   "outputs": [
    {
     "data": {
      "text/html": [
       "<div>\n",
       "<style scoped>\n",
       "    .dataframe tbody tr th:only-of-type {\n",
       "        vertical-align: middle;\n",
       "    }\n",
       "\n",
       "    .dataframe tbody tr th {\n",
       "        vertical-align: top;\n",
       "    }\n",
       "\n",
       "    .dataframe thead th {\n",
       "        text-align: right;\n",
       "    }\n",
       "</style>\n",
       "<table border=\"1\" class=\"dataframe\">\n",
       "  <thead>\n",
       "    <tr style=\"text-align: right;\">\n",
       "      <th></th>\n",
       "      <th>rating</th>\n",
       "      <th>review_count</th>\n",
       "    </tr>\n",
       "    <tr>\n",
       "      <th>product_name</th>\n",
       "      <th></th>\n",
       "      <th></th>\n",
       "    </tr>\n",
       "  </thead>\n",
       "  <tbody>\n",
       "    <tr>\n",
       "      <th>DreamAngelsCrochetLaceHigh-neckBodysuit</th>\n",
       "      <td>4.761538</td>\n",
       "      <td>1533.0</td>\n",
       "    </tr>\n",
       "    <tr>\n",
       "      <th>VerySexyMesh&amp;LaceCheekyPanty</th>\n",
       "      <td>4.700000</td>\n",
       "      <td>90.0</td>\n",
       "    </tr>\n",
       "    <tr>\n",
       "      <th>DreamAngelsLace-trimThongPanty</th>\n",
       "      <td>4.606548</td>\n",
       "      <td>13602.0</td>\n",
       "    </tr>\n",
       "    <tr>\n",
       "      <th>SoObsessedbyVictoria'sSecretNEW!Add-1-CupsPush-UpBra</th>\n",
       "      <td>4.600000</td>\n",
       "      <td>62640.0</td>\n",
       "    </tr>\n",
       "    <tr>\n",
       "      <th>VerySexyLace&amp;MeshThongPanty</th>\n",
       "      <td>4.600000</td>\n",
       "      <td>6864.0</td>\n",
       "    </tr>\n",
       "    <tr>\n",
       "      <th>DreamAngelsNEW!Lace-trimThongPanty</th>\n",
       "      <td>4.570898</td>\n",
       "      <td>57206.0</td>\n",
       "    </tr>\n",
       "    <tr>\n",
       "      <th>PINKSuperSoftBeachCheekyCroppedTank</th>\n",
       "      <td>4.566667</td>\n",
       "      <td>2510.0</td>\n",
       "    </tr>\n",
       "    <tr>\n",
       "      <th>PINKNEW!2-PackCrewSock</th>\n",
       "      <td>4.566667</td>\n",
       "      <td>1734.0</td>\n",
       "    </tr>\n",
       "    <tr>\n",
       "      <th>PINKCoconutWatersTravelKit</th>\n",
       "      <td>4.533333</td>\n",
       "      <td>300.0</td>\n",
       "    </tr>\n",
       "    <tr>\n",
       "      <th>VerySexyNEW!FloralLaceThongPanty</th>\n",
       "      <td>4.529730</td>\n",
       "      <td>18966.0</td>\n",
       "    </tr>\n",
       "  </tbody>\n",
       "</table>\n",
       "</div>"
      ],
      "text/plain": [
       "                                                      rating  review_count\n",
       "product_name                                                              \n",
       "DreamAngelsCrochetLaceHigh-neckBodysuit             4.761538        1533.0\n",
       "VerySexyMesh&LaceCheekyPanty                        4.700000          90.0\n",
       "DreamAngelsLace-trimThongPanty                      4.606548       13602.0\n",
       "SoObsessedbyVictoria'sSecretNEW!Add-1-CupsPush-...  4.600000       62640.0\n",
       "VerySexyLace&MeshThongPanty                         4.600000        6864.0\n",
       "DreamAngelsNEW!Lace-trimThongPanty                  4.570898       57206.0\n",
       "PINKSuperSoftBeachCheekyCroppedTank                 4.566667        2510.0\n",
       "PINKNEW!2-PackCrewSock                              4.566667        1734.0\n",
       "PINKCoconutWatersTravelKit                          4.533333         300.0\n",
       "VerySexyNEW!FloralLaceThongPanty                    4.529730       18966.0"
      ]
     },
     "execution_count": 69,
     "metadata": {},
     "output_type": "execute_result"
    }
   ],
   "source": [
    "df[\"product_name\"] = df[\"product_name\"].str.replace(\" \", \"\")\n",
    "grouped_df = df.groupby('product_name').agg({'rating': 'mean', 'review_count': 'sum'}).sort_values(['rating', 'review_count'], ascending=False)\n",
    "grouped_df.head(10)"
   ]
  },
  {
   "cell_type": "markdown",
   "id": "b12a8fb5",
   "metadata": {},
   "source": [
    "#### 2. What are the least popular products?"
   ]
  },
  {
   "cell_type": "markdown",
   "id": "33a4825a",
   "metadata": {},
   "source": [
    "Among the best rating products the least popular 10 products are:"
   ]
  },
  {
   "cell_type": "code",
   "execution_count": 70,
   "id": "3afef67f",
   "metadata": {},
   "outputs": [
    {
     "data": {
      "text/html": [
       "<div>\n",
       "<style scoped>\n",
       "    .dataframe tbody tr th:only-of-type {\n",
       "        vertical-align: middle;\n",
       "    }\n",
       "\n",
       "    .dataframe tbody tr th {\n",
       "        vertical-align: top;\n",
       "    }\n",
       "\n",
       "    .dataframe thead th {\n",
       "        text-align: right;\n",
       "    }\n",
       "</style>\n",
       "<table border=\"1\" class=\"dataframe\">\n",
       "  <thead>\n",
       "    <tr style=\"text-align: right;\">\n",
       "      <th></th>\n",
       "      <th>rating</th>\n",
       "      <th>review_count</th>\n",
       "    </tr>\n",
       "    <tr>\n",
       "      <th>product_name</th>\n",
       "      <th></th>\n",
       "      <th></th>\n",
       "    </tr>\n",
       "  </thead>\n",
       "  <tbody>\n",
       "    <tr>\n",
       "      <th>PINKWearEverywherePush-UpT-BackBra</th>\n",
       "      <td>1.784305</td>\n",
       "      <td>2.295000e+40</td>\n",
       "    </tr>\n",
       "    <tr>\n",
       "      <th>VerySexyNEW!High-neckLace-upRomper</th>\n",
       "      <td>2.100000</td>\n",
       "      <td>1.450000e+39</td>\n",
       "    </tr>\n",
       "    <tr>\n",
       "      <th>PINKNEW!EmbroideredTriangleBralette</th>\n",
       "      <td>2.345455</td>\n",
       "      <td>5.000000e+37</td>\n",
       "    </tr>\n",
       "    <tr>\n",
       "      <th>AlloverLacefromCottonLingerieNEW!DottedMeshThongPanty</th>\n",
       "      <td>2.563158</td>\n",
       "      <td>6.240000e+39</td>\n",
       "    </tr>\n",
       "    <tr>\n",
       "      <th>PINKNEW!LogoLaceTrimThong</th>\n",
       "      <td>2.563158</td>\n",
       "      <td>9.360000e+39</td>\n",
       "    </tr>\n",
       "    <tr>\n",
       "      <th>VerySexyNEW!LaceCheeksterPanty</th>\n",
       "      <td>2.761486</td>\n",
       "      <td>1.076400e+40</td>\n",
       "    </tr>\n",
       "    <tr>\n",
       "      <th>VictoriaSportSportBralette</th>\n",
       "      <td>3.200000</td>\n",
       "      <td>2.079000e+03</td>\n",
       "    </tr>\n",
       "    <tr>\n",
       "      <th>VerySexySatin&amp;LaceCami</th>\n",
       "      <td>3.225000</td>\n",
       "      <td>2.500000e+37</td>\n",
       "    </tr>\n",
       "    <tr>\n",
       "      <th>SeamlessPineappleCheekiniPanty</th>\n",
       "      <td>3.256410</td>\n",
       "      <td>5.772000e+39</td>\n",
       "    </tr>\n",
       "    <tr>\n",
       "      <th>DreamAngelsNEW!Satin&amp;LaceMiniSlip</th>\n",
       "      <td>3.257895</td>\n",
       "      <td>2.808000e+39</td>\n",
       "    </tr>\n",
       "  </tbody>\n",
       "</table>\n",
       "</div>"
      ],
      "text/plain": [
       "                                                      rating  review_count\n",
       "product_name                                                              \n",
       "PINKWearEverywherePush-UpT-BackBra                  1.784305  2.295000e+40\n",
       "VerySexyNEW!High-neckLace-upRomper                  2.100000  1.450000e+39\n",
       "PINKNEW!EmbroideredTriangleBralette                 2.345455  5.000000e+37\n",
       "AlloverLacefromCottonLingerieNEW!DottedMeshThon...  2.563158  6.240000e+39\n",
       "PINKNEW!LogoLaceTrimThong                           2.563158  9.360000e+39\n",
       "VerySexyNEW!LaceCheeksterPanty                      2.761486  1.076400e+40\n",
       "VictoriaSportSportBralette                          3.200000  2.079000e+03\n",
       "VerySexySatin&LaceCami                              3.225000  2.500000e+37\n",
       "SeamlessPineappleCheekiniPanty                      3.256410  5.772000e+39\n",
       "DreamAngelsNEW!Satin&LaceMiniSlip                   3.257895  2.808000e+39"
      ]
     },
     "execution_count": 70,
     "metadata": {},
     "output_type": "execute_result"
    }
   ],
   "source": [
    "df[\"product_name\"] = df[\"product_name\"].str.replace(\" \", \"\")\n",
    "least_popular_products = df.groupby('product_name').agg({'rating': 'mean', 'review_count': 'sum'}).sort_values(['rating', 'review_count'])\n",
    "least_popular_products.head(10)"
   ]
  },
  {
   "cell_type": "markdown",
   "id": "aeafc0bc",
   "metadata": {},
   "source": [
    "#### 3. What are the products which have the highest number of reviews?"
   ]
  },
  {
   "cell_type": "markdown",
   "id": "d8c9f788",
   "metadata": {},
   "source": [
    "We have mutliple reviews for each product so we are taking sum of all reviews for each product and finding the product which have highest review."
   ]
  },
  {
   "cell_type": "code",
   "execution_count": 55,
   "id": "616b06e3",
   "metadata": {},
   "outputs": [
    {
     "data": {
      "text/plain": [
       "product_name                          review_count\n",
       "PINK Silicone Petal                   1.100000e+01    4\n",
       "PINK NEW! Metal Water Bottle          1.470000e+02    4\n",
       "Very Sexy Embroidered Triangle Bra    1.470000e+02    4\n",
       "Very Sexy Satin Kimono                1.620000e+02    4\n",
       "Very Sexy Fishnet Lace Dress          1.470000e+02    4\n",
       "Very Sexy Satin Kimono                1.680000e+02    4\n",
       "Dream Angels Sheer Floral Lace Tunic  3.000000e+01    3\n",
       "PINK Fresh & Clean Gym Kit            1.470000e+02    3\n",
       "Single-Use Petals                     4.000000e+00    3\n",
       "Dream Angels Sheer Floral Lace Tunic  2.500000e+01    3\n",
       "Mesh Tee                              2.100000e+01    2\n",
       "Very Sexy Heart Lace Garter Belt      1.470000e+02    2\n",
       "Dream Angels Bridal Robe              2.100000e+01    2\n",
       "PINK NEW! Metal Water Bottle          3.300000e+01    2\n",
       "PINK Coconut Waters Travel Kit        1.470000e+02    2\n",
       "Very Sexy Fishnet Lace Dress          6.000000e+00    2\n",
       "PINK Campus Water Bottle              1.470000e+02    2\n",
       "Dream Angels NEW! Lace-trim Kimono    1.560000e+38    2\n",
       "Sleep Kimono                          1.200000e+01    1\n",
       "PINK Coconut Waters Travel Kit        6.000000e+00    1\n",
       "dtype: int64"
      ]
     },
     "execution_count": 55,
     "metadata": {},
     "output_type": "execute_result"
    }
   ],
   "source": [
    " df[[\"product_name\",\"review_count\"]].value_counts().tail(20) "
   ]
  },
  {
   "cell_type": "code",
   "execution_count": 73,
   "id": "dbcd4bbe",
   "metadata": {},
   "outputs": [
    {
     "data": {
      "text/html": [
       "<div>\n",
       "<style scoped>\n",
       "    .dataframe tbody tr th:only-of-type {\n",
       "        vertical-align: middle;\n",
       "    }\n",
       "\n",
       "    .dataframe tbody tr th {\n",
       "        vertical-align: top;\n",
       "    }\n",
       "\n",
       "    .dataframe thead th {\n",
       "        text-align: right;\n",
       "    }\n",
       "</style>\n",
       "<table border=\"1\" class=\"dataframe\">\n",
       "  <thead>\n",
       "    <tr style=\"text-align: right;\">\n",
       "      <th></th>\n",
       "      <th>review_count</th>\n",
       "    </tr>\n",
       "    <tr>\n",
       "      <th>product_name</th>\n",
       "      <th></th>\n",
       "    </tr>\n",
       "  </thead>\n",
       "  <tbody>\n",
       "    <tr>\n",
       "      <th>PINKWearEverywherePush-UpT-BackBra</th>\n",
       "      <td>2.295000e+40</td>\n",
       "    </tr>\n",
       "    <tr>\n",
       "      <th>PINKNEW!DatePush-UpBralette</th>\n",
       "      <td>1.620000e+40</td>\n",
       "    </tr>\n",
       "    <tr>\n",
       "      <th>VerySexyNEW!LaceCheeksterPanty</th>\n",
       "      <td>1.076400e+40</td>\n",
       "    </tr>\n",
       "    <tr>\n",
       "      <th>PINKNEW!LogoLaceTrimThong</th>\n",
       "      <td>9.360000e+39</td>\n",
       "    </tr>\n",
       "    <tr>\n",
       "      <th>BodybyVictoriaNEW!Lace-trimHiphuggerPanty</th>\n",
       "      <td>7.800000e+39</td>\n",
       "    </tr>\n",
       "    <tr>\n",
       "      <th>AlloverLacefromCottonLingerieNEW!DottedMeshThongPanty</th>\n",
       "      <td>6.240000e+39</td>\n",
       "    </tr>\n",
       "    <tr>\n",
       "      <th>PINKNEW!SeamlessUnlinedStrappyBralette</th>\n",
       "      <td>5.800000e+39</td>\n",
       "    </tr>\n",
       "    <tr>\n",
       "      <th>SeamlessPineappleCheekiniPanty</th>\n",
       "      <td>5.772000e+39</td>\n",
       "    </tr>\n",
       "    <tr>\n",
       "      <th>NEW!UltimateT-BackPush-UpSportsBra</th>\n",
       "      <td>4.992000e+39</td>\n",
       "    </tr>\n",
       "    <tr>\n",
       "      <th>VerySexyNEW!LaceThongPanty</th>\n",
       "      <td>4.680000e+39</td>\n",
       "    </tr>\n",
       "  </tbody>\n",
       "</table>\n",
       "</div>"
      ],
      "text/plain": [
       "                                                    review_count\n",
       "product_name                                                    \n",
       "PINKWearEverywherePush-UpT-BackBra                  2.295000e+40\n",
       "PINKNEW!DatePush-UpBralette                         1.620000e+40\n",
       "VerySexyNEW!LaceCheeksterPanty                      1.076400e+40\n",
       "PINKNEW!LogoLaceTrimThong                           9.360000e+39\n",
       "BodybyVictoriaNEW!Lace-trimHiphuggerPanty           7.800000e+39\n",
       "AlloverLacefromCottonLingerieNEW!DottedMeshThon...  6.240000e+39\n",
       "PINKNEW!SeamlessUnlinedStrappyBralette              5.800000e+39\n",
       "SeamlessPineappleCheekiniPanty                      5.772000e+39\n",
       "NEW!UltimateT-BackPush-UpSportsBra                  4.992000e+39\n",
       "VerySexyNEW!LaceThongPanty                          4.680000e+39"
      ]
     },
     "execution_count": 73,
     "metadata": {},
     "output_type": "execute_result"
    }
   ],
   "source": [
    "df[\"product_name\"] = df[\"product_name\"].str.replace(\" \", \"\")\n",
    "grouped_df = df.groupby('product_name').sum('review_count').sort_values(\"review_count\", ascending=False)\n",
    "resulted_df = grouped_df[[\"review_count\"]]\n",
    "resulted_df.head(10)"
   ]
  },
  {
   "cell_type": "markdown",
   "id": "82274be4",
   "metadata": {},
   "source": [
    "#### 4. Which black color product has the highest ratings? (or your favorite color)"
   ]
  },
  {
   "cell_type": "markdown",
   "id": "f2f18bcc",
   "metadata": {},
   "source": [
    "Creating function to any every color and also replacing the productname space since same product names are showing due to space issue."
   ]
  },
  {
   "cell_type": "code",
   "execution_count": 94,
   "id": "93c65d49",
   "metadata": {},
   "outputs": [],
   "source": [
    "def get_top_rated_color_product(df, color):\n",
    "    df[\"product_name\"] = df[\"product_name\"].str.replace(\" \", \"\")\n",
    "    new_df = df[['product_name', 'color', 'rating']]\n",
    "    filtered_df = new_df[new_df['color'].str.contains(color, case=False, regex=False)]\n",
    "    grouped_df = filtered_df.groupby(['product_name','color']).mean('rating').sort_values(\"rating\",ascending=False).head(10)\n",
    "    \n",
    "    return grouped_df.index[0]\n",
    "\n",
    " "
   ]
  },
  {
   "cell_type": "code",
   "execution_count": 95,
   "id": "0c3b554f",
   "metadata": {},
   "outputs": [
    {
     "data": {
      "text/plain": [
       "('VerySexyMesh&LaceCheekyPanty', 'black')"
      ]
     },
     "execution_count": 95,
     "metadata": {},
     "output_type": "execute_result"
    }
   ],
   "source": [
    "get_top_rated_color_product(df, \"black\")\n"
   ]
  },
  {
   "cell_type": "markdown",
   "id": "f9a69b76",
   "metadata": {},
   "source": [
    "#### 5. Which colors correspond to the highest rating?"
   ]
  },
  {
   "cell_type": "markdown",
   "id": "b1ee4f24",
   "metadata": {},
   "source": [
    "Here we are replacing space since same product names are distinguished with space placement. we are trying to find mean rating of the products and find the best mean rating of the products. after this we will check which color have best ratings"
   ]
  },
  {
   "cell_type": "code",
   "execution_count": 148,
   "id": "54107105",
   "metadata": {},
   "outputs": [
    {
     "data": {
      "text/html": [
       "<div>\n",
       "<style scoped>\n",
       "    .dataframe tbody tr th:only-of-type {\n",
       "        vertical-align: middle;\n",
       "    }\n",
       "\n",
       "    .dataframe tbody tr th {\n",
       "        vertical-align: top;\n",
       "    }\n",
       "\n",
       "    .dataframe thead th {\n",
       "        text-align: right;\n",
       "    }\n",
       "</style>\n",
       "<table border=\"1\" class=\"dataframe\">\n",
       "  <thead>\n",
       "    <tr style=\"text-align: right;\">\n",
       "      <th></th>\n",
       "      <th></th>\n",
       "      <th>mrp</th>\n",
       "      <th>price</th>\n",
       "      <th>rating</th>\n",
       "      <th>review_count</th>\n",
       "    </tr>\n",
       "    <tr>\n",
       "      <th>product_name</th>\n",
       "      <th>color</th>\n",
       "      <th></th>\n",
       "      <th></th>\n",
       "      <th></th>\n",
       "      <th></th>\n",
       "    </tr>\n",
       "  </thead>\n",
       "  <tbody>\n",
       "    <tr>\n",
       "      <th>DreamAngelsCrochetLaceHigh-neckBodysuit</th>\n",
       "      <th>ensign</th>\n",
       "      <td>52.0</td>\n",
       "      <td>43.576316</td>\n",
       "      <td>4.773684</td>\n",
       "      <td>36.473684</td>\n",
       "    </tr>\n",
       "    <tr>\n",
       "      <th>VerySexyNEW!PlungeLace-upTeddy</th>\n",
       "      <th>plum dust</th>\n",
       "      <td>68.0</td>\n",
       "      <td>68.000000</td>\n",
       "      <td>4.766667</td>\n",
       "      <td>52.333333</td>\n",
       "    </tr>\n",
       "    <tr>\n",
       "      <th>DreamAngelsCrochetLaceHigh-neckBodysuit</th>\n",
       "      <th>gentle mauve</th>\n",
       "      <td>52.0</td>\n",
       "      <td>43.997500</td>\n",
       "      <td>4.750000</td>\n",
       "      <td>42.000000</td>\n",
       "    </tr>\n",
       "    <tr>\n",
       "      <th>BodybyVictoriaCheekiniPanty</th>\n",
       "      <th>french sage</th>\n",
       "      <td>14.5</td>\n",
       "      <td>7.990000</td>\n",
       "      <td>4.700000</td>\n",
       "      <td>56.333333</td>\n",
       "    </tr>\n",
       "    <tr>\n",
       "      <th>VerySexyMesh&amp;LaceCheekyPanty</th>\n",
       "      <th>black</th>\n",
       "      <td>16.5</td>\n",
       "      <td>7.990000</td>\n",
       "      <td>4.700000</td>\n",
       "      <td>18.000000</td>\n",
       "    </tr>\n",
       "    <tr>\n",
       "      <th>BodybyVictoriaCheekiniPanty</th>\n",
       "      <th>ink blot lace trim</th>\n",
       "      <td>14.5</td>\n",
       "      <td>7.990000</td>\n",
       "      <td>4.700000</td>\n",
       "      <td>56.333333</td>\n",
       "    </tr>\n",
       "    <tr>\n",
       "      <th>DreamAngelsNEW!Lace-trimThongPanty</th>\n",
       "      <th>fir green</th>\n",
       "      <td>14.5</td>\n",
       "      <td>14.500000</td>\n",
       "      <td>4.675000</td>\n",
       "      <td>65.750000</td>\n",
       "    </tr>\n",
       "    <tr>\n",
       "      <th>PINKNEW!LogoBoyshort</th>\n",
       "      <th>Marl Grey</th>\n",
       "      <td>10.5</td>\n",
       "      <td>10.500000</td>\n",
       "      <td>4.666667</td>\n",
       "      <td>59.666667</td>\n",
       "    </tr>\n",
       "    <tr>\n",
       "      <th>DreamAngelsDemiBra</th>\n",
       "      <th>Rosy Mauve with Solid Lace</th>\n",
       "      <td>48.5</td>\n",
       "      <td>29.990000</td>\n",
       "      <td>4.656140</td>\n",
       "      <td>73.228070</td>\n",
       "    </tr>\n",
       "    <tr>\n",
       "      <th>VerySexyLace&amp;MeshThongPanty</th>\n",
       "      <th>ginger glaze</th>\n",
       "      <td>14.5</td>\n",
       "      <td>7.990000</td>\n",
       "      <td>4.650000</td>\n",
       "      <td>79.500000</td>\n",
       "    </tr>\n",
       "  </tbody>\n",
       "</table>\n",
       "</div>"
      ],
      "text/plain": [
       "                                                                     mrp  \\\n",
       "product_name                            color                              \n",
       "DreamAngelsCrochetLaceHigh-neckBodysuit ensign                      52.0   \n",
       "VerySexyNEW!PlungeLace-upTeddy          plum dust                   68.0   \n",
       "DreamAngelsCrochetLaceHigh-neckBodysuit gentle mauve                52.0   \n",
       "BodybyVictoriaCheekiniPanty             french sage                 14.5   \n",
       "VerySexyMesh&LaceCheekyPanty            black                       16.5   \n",
       "BodybyVictoriaCheekiniPanty             ink blot lace trim          14.5   \n",
       "DreamAngelsNEW!Lace-trimThongPanty      fir green                   14.5   \n",
       "PINKNEW!LogoBoyshort                    Marl Grey                   10.5   \n",
       "DreamAngelsDemiBra                      Rosy Mauve with Solid Lace  48.5   \n",
       "VerySexyLace&MeshThongPanty             ginger glaze                14.5   \n",
       "\n",
       "                                                                        price  \\\n",
       "product_name                            color                                   \n",
       "DreamAngelsCrochetLaceHigh-neckBodysuit ensign                      43.576316   \n",
       "VerySexyNEW!PlungeLace-upTeddy          plum dust                   68.000000   \n",
       "DreamAngelsCrochetLaceHigh-neckBodysuit gentle mauve                43.997500   \n",
       "BodybyVictoriaCheekiniPanty             french sage                  7.990000   \n",
       "VerySexyMesh&LaceCheekyPanty            black                        7.990000   \n",
       "BodybyVictoriaCheekiniPanty             ink blot lace trim           7.990000   \n",
       "DreamAngelsNEW!Lace-trimThongPanty      fir green                   14.500000   \n",
       "PINKNEW!LogoBoyshort                    Marl Grey                   10.500000   \n",
       "DreamAngelsDemiBra                      Rosy Mauve with Solid Lace  29.990000   \n",
       "VerySexyLace&MeshThongPanty             ginger glaze                 7.990000   \n",
       "\n",
       "                                                                      rating  \\\n",
       "product_name                            color                                  \n",
       "DreamAngelsCrochetLaceHigh-neckBodysuit ensign                      4.773684   \n",
       "VerySexyNEW!PlungeLace-upTeddy          plum dust                   4.766667   \n",
       "DreamAngelsCrochetLaceHigh-neckBodysuit gentle mauve                4.750000   \n",
       "BodybyVictoriaCheekiniPanty             french sage                 4.700000   \n",
       "VerySexyMesh&LaceCheekyPanty            black                       4.700000   \n",
       "BodybyVictoriaCheekiniPanty             ink blot lace trim          4.700000   \n",
       "DreamAngelsNEW!Lace-trimThongPanty      fir green                   4.675000   \n",
       "PINKNEW!LogoBoyshort                    Marl Grey                   4.666667   \n",
       "DreamAngelsDemiBra                      Rosy Mauve with Solid Lace  4.656140   \n",
       "VerySexyLace&MeshThongPanty             ginger glaze                4.650000   \n",
       "\n",
       "                                                                    review_count  \n",
       "product_name                            color                                     \n",
       "DreamAngelsCrochetLaceHigh-neckBodysuit ensign                         36.473684  \n",
       "VerySexyNEW!PlungeLace-upTeddy          plum dust                      52.333333  \n",
       "DreamAngelsCrochetLaceHigh-neckBodysuit gentle mauve                   42.000000  \n",
       "BodybyVictoriaCheekiniPanty             french sage                    56.333333  \n",
       "VerySexyMesh&LaceCheekyPanty            black                          18.000000  \n",
       "BodybyVictoriaCheekiniPanty             ink blot lace trim             56.333333  \n",
       "DreamAngelsNEW!Lace-trimThongPanty      fir green                      65.750000  \n",
       "PINKNEW!LogoBoyshort                    Marl Grey                      59.666667  \n",
       "DreamAngelsDemiBra                      Rosy Mauve with Solid Lace     73.228070  \n",
       "VerySexyLace&MeshThongPanty             ginger glaze                   79.500000  "
      ]
     },
     "execution_count": 148,
     "metadata": {},
     "output_type": "execute_result"
    }
   ],
   "source": [
    "df[\"product_name\"] = df[\"product_name\"].str.replace(\" \", \"\")\n",
    "grouped_df1 = df.groupby(['product_name', 'color']).mean('rating').sort_values(\"rating\",ascending = False)\n",
    "grouped_df1.head(10)"
   ]
  },
  {
   "cell_type": "code",
   "execution_count": 149,
   "id": "7517738e",
   "metadata": {},
   "outputs": [
    {
     "data": {
      "text/plain": [
       "mrp             52.000000\n",
       "price           43.576316\n",
       "rating           4.773684\n",
       "review_count    36.473684\n",
       "Name: (DreamAngelsCrochetLaceHigh-neckBodysuit, ensign), dtype: float64"
      ]
     },
     "execution_count": 149,
     "metadata": {},
     "output_type": "execute_result"
    }
   ],
   "source": [
    "grouped_df1.iloc[0, :]"
   ]
  },
  {
   "cell_type": "markdown",
   "id": "deb43e86",
   "metadata": {},
   "source": [
    "#### PART 4"
   ]
  },
  {
   "cell_type": "markdown",
   "id": "31d691f9",
   "metadata": {},
   "source": [
    "#### 6. What are the cheapest 'sport bras'? Which have the best ratings?"
   ]
  },
  {
   "cell_type": "markdown",
   "id": "9f6ff0e9",
   "metadata": {},
   "source": [
    "First we trying to find cheapest bras we are also adding the condition  where by removing the spaces. we are also finding the mean rating of each product since each prodct have different rating."
   ]
  },
  {
   "cell_type": "code",
   "execution_count": 150,
   "id": "b3007da4",
   "metadata": {},
   "outputs": [
    {
     "data": {
      "text/html": [
       "<div>\n",
       "<style scoped>\n",
       "    .dataframe tbody tr th:only-of-type {\n",
       "        vertical-align: middle;\n",
       "    }\n",
       "\n",
       "    .dataframe tbody tr th {\n",
       "        vertical-align: top;\n",
       "    }\n",
       "\n",
       "    .dataframe thead th {\n",
       "        text-align: right;\n",
       "    }\n",
       "</style>\n",
       "<table border=\"1\" class=\"dataframe\">\n",
       "  <thead>\n",
       "    <tr style=\"text-align: right;\">\n",
       "      <th></th>\n",
       "      <th>mrp</th>\n",
       "      <th>price</th>\n",
       "      <th>rating</th>\n",
       "      <th>review_count</th>\n",
       "    </tr>\n",
       "    <tr>\n",
       "      <th>product_name</th>\n",
       "      <th></th>\n",
       "      <th></th>\n",
       "      <th></th>\n",
       "      <th></th>\n",
       "    </tr>\n",
       "  </thead>\n",
       "  <tbody>\n",
       "    <tr>\n",
       "      <th>PINKUltimateCageSportsBra</th>\n",
       "      <td>22.500000</td>\n",
       "      <td>9.990000</td>\n",
       "      <td>4.138095</td>\n",
       "      <td>1.103571e+02</td>\n",
       "    </tr>\n",
       "    <tr>\n",
       "      <th>PINKUltimateLonglineHigh-NeckSportsBra</th>\n",
       "      <td>22.500000</td>\n",
       "      <td>22.500000</td>\n",
       "      <td>4.300000</td>\n",
       "      <td>1.470000e+02</td>\n",
       "    </tr>\n",
       "    <tr>\n",
       "      <th>PINKUltimateCageFrontSportsBra</th>\n",
       "      <td>24.500000</td>\n",
       "      <td>22.622500</td>\n",
       "      <td>3.925000</td>\n",
       "      <td>9.310714e+01</td>\n",
       "    </tr>\n",
       "    <tr>\n",
       "      <th>PINKUltimateLace-UpPlungeSportsBra</th>\n",
       "      <td>24.500000</td>\n",
       "      <td>24.500000</td>\n",
       "      <td>4.335714</td>\n",
       "      <td>1.112857e+02</td>\n",
       "    </tr>\n",
       "    <tr>\n",
       "      <th>PINKUltimatePocketStrappySportsBra</th>\n",
       "      <td>24.500000</td>\n",
       "      <td>21.069512</td>\n",
       "      <td>4.258537</td>\n",
       "      <td>1.343537e+02</td>\n",
       "    </tr>\n",
       "    <tr>\n",
       "      <th>PINKUltimateStrappyBackSportsBra</th>\n",
       "      <td>24.500000</td>\n",
       "      <td>16.690000</td>\n",
       "      <td>4.266000</td>\n",
       "      <td>1.484733e+02</td>\n",
       "    </tr>\n",
       "    <tr>\n",
       "      <th>PINKUltimateUnlinedStrappyMeshSportsBra</th>\n",
       "      <td>24.500000</td>\n",
       "      <td>12.990000</td>\n",
       "      <td>4.058025</td>\n",
       "      <td>9.860494e+01</td>\n",
       "    </tr>\n",
       "    <tr>\n",
       "      <th>PINKNEW!UltimateLace-UpPlungeSportsBra</th>\n",
       "      <td>25.218103</td>\n",
       "      <td>25.218103</td>\n",
       "      <td>4.346983</td>\n",
       "      <td>1.002500e+02</td>\n",
       "    </tr>\n",
       "    <tr>\n",
       "      <th>NEW!UltimateUnlinedMeshHigh-NeckSportsBra</th>\n",
       "      <td>25.725000</td>\n",
       "      <td>25.725000</td>\n",
       "      <td>4.300000</td>\n",
       "      <td>1.470000e+02</td>\n",
       "    </tr>\n",
       "    <tr>\n",
       "      <th>PINKUltimateMeshRacerbackSportsBra</th>\n",
       "      <td>26.500000</td>\n",
       "      <td>12.990000</td>\n",
       "      <td>4.172189</td>\n",
       "      <td>1.188817e+02</td>\n",
       "    </tr>\n",
       "    <tr>\n",
       "      <th>PINKNEW!UltimatePush-UpSportsBra</th>\n",
       "      <td>34.500000</td>\n",
       "      <td>34.500000</td>\n",
       "      <td>4.265989</td>\n",
       "      <td>1.405102e+02</td>\n",
       "    </tr>\n",
       "    <tr>\n",
       "      <th>PINKUltimatePush-UpSportsBra</th>\n",
       "      <td>34.500000</td>\n",
       "      <td>27.047278</td>\n",
       "      <td>4.271111</td>\n",
       "      <td>1.428889e+02</td>\n",
       "    </tr>\n",
       "    <tr>\n",
       "      <th>PINKNEW!UltimatePush-UpStrappySportsBra</th>\n",
       "      <td>34.674222</td>\n",
       "      <td>34.674222</td>\n",
       "      <td>4.173778</td>\n",
       "      <td>1.030556e+02</td>\n",
       "    </tr>\n",
       "    <tr>\n",
       "      <th>NEW!UltimateT-BackPush-UpSportsBra</th>\n",
       "      <td>35.725000</td>\n",
       "      <td>35.725000</td>\n",
       "      <td>3.792308</td>\n",
       "      <td>2.400000e+37</td>\n",
       "    </tr>\n",
       "  </tbody>\n",
       "</table>\n",
       "</div>"
      ],
      "text/plain": [
       "                                                 mrp      price    rating  \\\n",
       "product_name                                                                \n",
       "PINKUltimateCageSportsBra                  22.500000   9.990000  4.138095   \n",
       "PINKUltimateLonglineHigh-NeckSportsBra     22.500000  22.500000  4.300000   \n",
       "PINKUltimateCageFrontSportsBra             24.500000  22.622500  3.925000   \n",
       "PINKUltimateLace-UpPlungeSportsBra         24.500000  24.500000  4.335714   \n",
       "PINKUltimatePocketStrappySportsBra         24.500000  21.069512  4.258537   \n",
       "PINKUltimateStrappyBackSportsBra           24.500000  16.690000  4.266000   \n",
       "PINKUltimateUnlinedStrappyMeshSportsBra    24.500000  12.990000  4.058025   \n",
       "PINKNEW!UltimateLace-UpPlungeSportsBra     25.218103  25.218103  4.346983   \n",
       "NEW!UltimateUnlinedMeshHigh-NeckSportsBra  25.725000  25.725000  4.300000   \n",
       "PINKUltimateMeshRacerbackSportsBra         26.500000  12.990000  4.172189   \n",
       "PINKNEW!UltimatePush-UpSportsBra           34.500000  34.500000  4.265989   \n",
       "PINKUltimatePush-UpSportsBra               34.500000  27.047278  4.271111   \n",
       "PINKNEW!UltimatePush-UpStrappySportsBra    34.674222  34.674222  4.173778   \n",
       "NEW!UltimateT-BackPush-UpSportsBra         35.725000  35.725000  3.792308   \n",
       "\n",
       "                                           review_count  \n",
       "product_name                                             \n",
       "PINKUltimateCageSportsBra                  1.103571e+02  \n",
       "PINKUltimateLonglineHigh-NeckSportsBra     1.470000e+02  \n",
       "PINKUltimateCageFrontSportsBra             9.310714e+01  \n",
       "PINKUltimateLace-UpPlungeSportsBra         1.112857e+02  \n",
       "PINKUltimatePocketStrappySportsBra         1.343537e+02  \n",
       "PINKUltimateStrappyBackSportsBra           1.484733e+02  \n",
       "PINKUltimateUnlinedStrappyMeshSportsBra    9.860494e+01  \n",
       "PINKNEW!UltimateLace-UpPlungeSportsBra     1.002500e+02  \n",
       "NEW!UltimateUnlinedMeshHigh-NeckSportsBra  1.470000e+02  \n",
       "PINKUltimateMeshRacerbackSportsBra         1.188817e+02  \n",
       "PINKNEW!UltimatePush-UpSportsBra           1.405102e+02  \n",
       "PINKUltimatePush-UpSportsBra               1.428889e+02  \n",
       "PINKNEW!UltimatePush-UpStrappySportsBra    1.030556e+02  \n",
       "NEW!UltimateT-BackPush-UpSportsBra         2.400000e+37  "
      ]
     },
     "execution_count": 150,
     "metadata": {},
     "output_type": "execute_result"
    }
   ],
   "source": [
    "df[\"product_name\"] = df[\"product_name\"].str.replace(\" \", \"\")\n",
    "filtered_df2 = df[df['product_name'].str.contains(\"sportsbra\", case=False, regex=True)]\n",
    "grouped_df2 = filtered_df.groupby('product_name').mean(\"rating\").sort_values(\"mrp\")\n",
    "grouped_df2"
   ]
  },
  {
   "cell_type": "markdown",
   "id": "34c0edd7",
   "metadata": {},
   "source": [
    "From these cheapest products we need to find top 10 rated products."
   ]
  },
  {
   "cell_type": "code",
   "execution_count": 192,
   "id": "6cf64458",
   "metadata": {},
   "outputs": [
    {
     "data": {
      "text/html": [
       "<div>\n",
       "<style scoped>\n",
       "    .dataframe tbody tr th:only-of-type {\n",
       "        vertical-align: middle;\n",
       "    }\n",
       "\n",
       "    .dataframe tbody tr th {\n",
       "        vertical-align: top;\n",
       "    }\n",
       "\n",
       "    .dataframe thead th {\n",
       "        text-align: right;\n",
       "    }\n",
       "</style>\n",
       "<table border=\"1\" class=\"dataframe\">\n",
       "  <thead>\n",
       "    <tr style=\"text-align: right;\">\n",
       "      <th></th>\n",
       "      <th>mrp</th>\n",
       "      <th>price</th>\n",
       "      <th>rating</th>\n",
       "      <th>review_count</th>\n",
       "    </tr>\n",
       "    <tr>\n",
       "      <th>product_name</th>\n",
       "      <th></th>\n",
       "      <th></th>\n",
       "      <th></th>\n",
       "      <th></th>\n",
       "    </tr>\n",
       "  </thead>\n",
       "  <tbody>\n",
       "    <tr>\n",
       "      <th>PINKNEW!UltimateLace-UpPlungeSportsBra</th>\n",
       "      <td>25.218103</td>\n",
       "      <td>25.218103</td>\n",
       "      <td>4.346983</td>\n",
       "      <td>100.250000</td>\n",
       "    </tr>\n",
       "    <tr>\n",
       "      <th>PINKUltimateLace-UpPlungeSportsBra</th>\n",
       "      <td>24.500000</td>\n",
       "      <td>24.500000</td>\n",
       "      <td>4.335714</td>\n",
       "      <td>111.285714</td>\n",
       "    </tr>\n",
       "    <tr>\n",
       "      <th>PINKUltimateLonglineHigh-NeckSportsBra</th>\n",
       "      <td>22.500000</td>\n",
       "      <td>22.500000</td>\n",
       "      <td>4.300000</td>\n",
       "      <td>147.000000</td>\n",
       "    </tr>\n",
       "    <tr>\n",
       "      <th>NEW!UltimateUnlinedMeshHigh-NeckSportsBra</th>\n",
       "      <td>25.725000</td>\n",
       "      <td>25.725000</td>\n",
       "      <td>4.300000</td>\n",
       "      <td>147.000000</td>\n",
       "    </tr>\n",
       "    <tr>\n",
       "      <th>PINKUltimatePush-UpSportsBra</th>\n",
       "      <td>34.500000</td>\n",
       "      <td>27.047278</td>\n",
       "      <td>4.271111</td>\n",
       "      <td>142.888889</td>\n",
       "    </tr>\n",
       "    <tr>\n",
       "      <th>PINKUltimateStrappyBackSportsBra</th>\n",
       "      <td>24.500000</td>\n",
       "      <td>16.690000</td>\n",
       "      <td>4.266000</td>\n",
       "      <td>148.473333</td>\n",
       "    </tr>\n",
       "    <tr>\n",
       "      <th>PINKNEW!UltimatePush-UpSportsBra</th>\n",
       "      <td>34.500000</td>\n",
       "      <td>34.500000</td>\n",
       "      <td>4.265989</td>\n",
       "      <td>140.510166</td>\n",
       "    </tr>\n",
       "    <tr>\n",
       "      <th>PINKUltimatePocketStrappySportsBra</th>\n",
       "      <td>24.500000</td>\n",
       "      <td>21.069512</td>\n",
       "      <td>4.258537</td>\n",
       "      <td>134.353659</td>\n",
       "    </tr>\n",
       "    <tr>\n",
       "      <th>PINKNEW!UltimatePush-UpStrappySportsBra</th>\n",
       "      <td>34.674222</td>\n",
       "      <td>34.674222</td>\n",
       "      <td>4.173778</td>\n",
       "      <td>103.055556</td>\n",
       "    </tr>\n",
       "    <tr>\n",
       "      <th>PINKUltimateMeshRacerbackSportsBra</th>\n",
       "      <td>26.500000</td>\n",
       "      <td>12.990000</td>\n",
       "      <td>4.172189</td>\n",
       "      <td>118.881657</td>\n",
       "    </tr>\n",
       "  </tbody>\n",
       "</table>\n",
       "</div>"
      ],
      "text/plain": [
       "                                                 mrp      price    rating  \\\n",
       "product_name                                                                \n",
       "PINKNEW!UltimateLace-UpPlungeSportsBra     25.218103  25.218103  4.346983   \n",
       "PINKUltimateLace-UpPlungeSportsBra         24.500000  24.500000  4.335714   \n",
       "PINKUltimateLonglineHigh-NeckSportsBra     22.500000  22.500000  4.300000   \n",
       "NEW!UltimateUnlinedMeshHigh-NeckSportsBra  25.725000  25.725000  4.300000   \n",
       "PINKUltimatePush-UpSportsBra               34.500000  27.047278  4.271111   \n",
       "PINKUltimateStrappyBackSportsBra           24.500000  16.690000  4.266000   \n",
       "PINKNEW!UltimatePush-UpSportsBra           34.500000  34.500000  4.265989   \n",
       "PINKUltimatePocketStrappySportsBra         24.500000  21.069512  4.258537   \n",
       "PINKNEW!UltimatePush-UpStrappySportsBra    34.674222  34.674222  4.173778   \n",
       "PINKUltimateMeshRacerbackSportsBra         26.500000  12.990000  4.172189   \n",
       "\n",
       "                                           review_count  \n",
       "product_name                                             \n",
       "PINKNEW!UltimateLace-UpPlungeSportsBra       100.250000  \n",
       "PINKUltimateLace-UpPlungeSportsBra           111.285714  \n",
       "PINKUltimateLonglineHigh-NeckSportsBra       147.000000  \n",
       "NEW!UltimateUnlinedMeshHigh-NeckSportsBra    147.000000  \n",
       "PINKUltimatePush-UpSportsBra                 142.888889  \n",
       "PINKUltimateStrappyBackSportsBra             148.473333  \n",
       "PINKNEW!UltimatePush-UpSportsBra             140.510166  \n",
       "PINKUltimatePocketStrappySportsBra           134.353659  \n",
       "PINKNEW!UltimatePush-UpStrappySportsBra      103.055556  \n",
       "PINKUltimateMeshRacerbackSportsBra           118.881657  "
      ]
     },
     "execution_count": 192,
     "metadata": {},
     "output_type": "execute_result"
    }
   ],
   "source": [
    "best_rated_cheap_products = grouped_df2.sort_values('rating', ascending=False).head(10)\n",
    "best_rated_cheap_products"
   ]
  },
  {
   "cell_type": "markdown",
   "id": "deef9ea1",
   "metadata": {},
   "source": [
    "#### PART 5"
   ]
  },
  {
   "cell_type": "markdown",
   "id": "678a4e3d",
   "metadata": {},
   "source": [
    "#### 7. What is the most expensive belt? in which color is it available?"
   ]
  },
  {
   "cell_type": "code",
   "execution_count": 152,
   "id": "42e5aa47",
   "metadata": {},
   "outputs": [
    {
     "name": "stdout",
     "output_type": "stream",
     "text": [
      "The most expensive belt is 'VerySexyHeartLaceGarterBelt' in color 'black hearts print' with a price of 58.0.\n"
     ]
    }
   ],
   "source": [
    "belt_df = df[df['product_category'].str.contains(\"belt\", case=False, regex=True)]\n",
    "grouped_df3 = belt_df.groupby(['product_name', 'color']).max('mrp').sort_values('mrp', ascending=False)\n",
    "most_expensive_belt = grouped_df3.iloc[0]\n",
    "print(f\"The most expensive belt is '{most_expensive_belt.name[0]}' in color '{most_expensive_belt.name[1]}' with a price of {most_expensive_belt['mrp']}.\")\n",
    "\n"
   ]
  },
  {
   "cell_type": "markdown",
   "id": "4e2bb97a",
   "metadata": {},
   "source": [
    "#### PART 6"
   ]
  },
  {
   "cell_type": "markdown",
   "id": "2e26255e",
   "metadata": {},
   "source": [
    "#### 8. What is the most common color of the best rated products? What is then the best rated product available in the most popular color?"
   ]
  },
  {
   "cell_type": "markdown",
   "id": "40584a1c",
   "metadata": {},
   "source": [
    "Here the first step we try to find product name( without considering the space)  and then we are taking best rated 100 products. From these rated products we are displaying the product_name and Color using idxmax() is a pandas function that returns the index of the maximum value in a DataFrame."
   ]
  },
  {
   "cell_type": "code",
   "execution_count": 163,
   "id": "5ecd943e",
   "metadata": {},
   "outputs": [
    {
     "data": {
      "text/plain": [
       "'Black'"
      ]
     },
     "execution_count": 163,
     "metadata": {},
     "output_type": "execute_result"
    }
   ],
   "source": [
    "df[\"product_name\"] = df[\"product_name\"].str.replace(\" \", \"\")\n",
    "grouped_df = df.groupby('product_name').mean('rating').sort_values(\"rating\",ascending = False)\n",
    "best_rated_products = grouped_df.index[:100]  \n",
    "filtered_df = df[df['product_name'].isin(best_rated_products)]\n",
    "most_common_color = filtered_df['color'].value_counts().idxmax()\n",
    "most_common_color"
   ]
  },
  {
   "cell_type": "code",
   "execution_count": 167,
   "id": "7b1e2644",
   "metadata": {},
   "outputs": [
    {
     "data": {
      "text/plain": [
       "'VerySexyMesh&LaceCheekyPanty'"
      ]
     },
     "execution_count": 167,
     "metadata": {},
     "output_type": "execute_result"
    }
   ],
   "source": [
    "df[\"product_name\"] = df[\"product_name\"].str.replace(\" \", \"\")\n",
    "filtered_df = df[df['color'].str.contains(most_common_color, case=False, regex=False)]\n",
    "most_common_product = filtered_df.groupby('product_name')['rating'].mean().idxmax()\n",
    "most_common_product"
   ]
  },
  {
   "cell_type": "markdown",
   "id": "2d25ab10",
   "metadata": {},
   "source": [
    "#### BONUS QUESTIONS"
   ]
  },
  {
   "cell_type": "markdown",
   "id": "6b86a137",
   "metadata": {},
   "source": [
    "#### 9. Which products are the most discounted? consider the three cases of a) USD discount between price and mrp, b) percentage of discount relative to price, c) percentage of discount relative to mrp."
   ]
  },
  {
   "cell_type": "markdown",
   "id": "c7eeccb3",
   "metadata": {},
   "source": [
    "Step:1 first we find the USD discount between and price and mrp, calculate  p and calculate percentage of discount relative to price and finally calculate percentage of discount relative to mrp."
   ]
  },
  {
   "cell_type": "code",
   "execution_count": 196,
   "id": "fdae11d1",
   "metadata": {},
   "outputs": [],
   "source": [
    "df['usd_discount'] = df['mrp'] - df['price']\n",
    "df['perct_discount_price'] = (df['usd_discount'] / df['price']) * 100\n",
    "df['perct_discount_mrp'] = (df['usd_discount'] / df['mrp']) * 100\n"
   ]
  },
  {
   "cell_type": "code",
   "execution_count": 194,
   "id": "182cf711",
   "metadata": {},
   "outputs": [
    {
     "data": {
      "text/plain": [
       "product_name\n",
       "VerySexyLacePlungeGarterSlip      53.010000\n",
       "VerySexyEmbroideredTriangleBra    43.010000\n",
       "VerySexyStrappyPlungeBra          40.510000\n",
       "VerySexyHeartLaceGarterBelt       38.010000\n",
       "VerySexyCrochetLacePush-UpBra     28.608019\n",
       "BodybyVictoriaStraplessBra        28.433611\n",
       "DreamAngelsLacePush-UpBra         28.238814\n",
       "SleepKimono                       26.581429\n",
       "LaceEasyPush-UpBra                26.444278\n",
       "DreamAngelsTheLaced-UpBralette    26.028249\n",
       "Name: usd_discount, dtype: float64"
      ]
     },
     "execution_count": 194,
     "metadata": {},
     "output_type": "execute_result"
    }
   ],
   "source": [
    "discounted_products = df.groupby('product_name')['usd_discount'].mean().sort_values(ascending=False)\n",
    "discounted_products.head(10)"
   ]
  },
  {
   "cell_type": "code",
   "execution_count": 188,
   "id": "20d9d61b",
   "metadata": {},
   "outputs": [
    {
     "data": {
      "text/plain": [
       "product_name\n",
       "LaceEasyPush-UpBra                        224.604275\n",
       "DreamAngelsRuffledThongPanty              215.708777\n",
       "DreamAngelsRuffledCheekiniBloomerPanty    214.873318\n",
       "VerySexyLacePlungeGarterSlip              212.124850\n",
       "PINKLaceLightlyLinedTriangle              207.413844\n",
       "ThePlayerLace-UpSportBra                  205.728152\n",
       "VerySexyLaceV-stringPanty                 200.324298\n",
       "SleepKimono                               197.379264\n",
       "KeyholePush-UpBra                         196.312220\n",
       "CottonLingerieMeshThongPanty              195.695914\n",
       "Name: perct_discount_price, dtype: float64"
      ]
     },
     "execution_count": 188,
     "metadata": {},
     "output_type": "execute_result"
    }
   ],
   "source": [
    "price_percentagediscounted_products = df.groupby('product_name')['perct_discount_price'].mean().sort_values(ascending=False).head(10)\n",
    "price_percentagediscounted_products\n",
    "\n"
   ]
  },
  {
   "cell_type": "code",
   "execution_count": 191,
   "id": "ae0c41a2",
   "metadata": {},
   "outputs": [
    {
     "data": {
      "text/plain": [
       "product_name\n",
       "VerySexyLacePlungeGarterSlip              67.961538\n",
       "LaceEasyPush-UpBra                        66.947539\n",
       "DreamAngelsRuffledThongPanty              65.877044\n",
       "DreamAngelsRuffledCheekiniBloomerPanty    65.751412\n",
       "VerySexyHeartLaceGarterBelt               65.534483\n",
       "CottonLingerieMeshThongPanty              65.520924\n",
       "VerySexyLaceV-stringPanty                 64.909091\n",
       "VerySexyStrappyPlungeBra                  64.816000\n",
       "PINKLaceLightlyLinedTriangle              64.467263\n",
       "CottonLingerieLace-waistBriefPanty        63.190476\n",
       "Name: perct_discount_mrp, dtype: float64"
      ]
     },
     "execution_count": 191,
     "metadata": {},
     "output_type": "execute_result"
    }
   ],
   "source": [
    "top_pct_discounted_mrp_products = df.groupby('product_name')['perct_discount_mrp'].mean().sort_values(ascending=False).head(10)\n",
    "top_pct_discounted_mrp_products"
   ]
  }
 ],
 "metadata": {
  "kernelspec": {
   "display_name": "Python 3 (ipykernel)",
   "language": "python",
   "name": "python3"
  },
  "language_info": {
   "codemirror_mode": {
    "name": "ipython",
    "version": 3
   },
   "file_extension": ".py",
   "mimetype": "text/x-python",
   "name": "python",
   "nbconvert_exporter": "python",
   "pygments_lexer": "ipython3",
   "version": "3.9.12"
  }
 },
 "nbformat": 4,
 "nbformat_minor": 5
}
